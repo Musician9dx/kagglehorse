{
  "nbformat": 4,
  "nbformat_minor": 0,
  "metadata": {
    "colab": {
      "provenance": [],
      "gpuType": "T4"
    },
    "kernelspec": {
      "name": "python3",
      "display_name": "Python 3"
    },
    "language_info": {
      "name": "python"
    },
    "accelerator": "GPU"
  },
  "cells": [
    {
      "cell_type": "markdown",
      "source": [
        "# **Import Libraries**"
      ],
      "metadata": {
        "id": "JVUjhP9hyweH"
      }
    },
    {
      "cell_type": "code",
      "execution_count": 2,
      "metadata": {
        "id": "W_2tNRttE2T5",
        "colab": {
          "base_uri": "https://localhost:8080/"
        },
        "outputId": "23d52d01-1183-478b-becc-fbb2f4dc5c68"
      },
      "outputs": [
        {
          "output_type": "stream",
          "name": "stdout",
          "text": [
            "Mounted at /content/drive\n"
          ]
        }
      ],
      "source": [
        "import pandas as pd\n",
        "import numpy as np\n",
        "\n",
        "import tensorflow as tf\n",
        "from tensorflow.keras.layers import LSTM,Bidirectional,Dense,Input,Add,Activation,Concatenate\n",
        "from tensorflow.keras import Model\n",
        "\n",
        "from sklearn.preprocessing import StandardScaler,OneHotEncoder\n",
        "from sklearn.impute import SimpleImputer\n",
        "from sklearn.compose import ColumnTransformer\n",
        "from sklearn.pipeline import Pipeline\n",
        "import seaborn as sns\n",
        "import matplotlib.pyplot as plt\n",
        "import plotly.express as px\n",
        "from tensorflow.keras.utils import plot_model\n",
        "import scipy\n",
        "\n",
        "from google.colab.drive import mount\n",
        "mount(\"/content/drive\")"
      ]
    },
    {
      "cell_type": "markdown",
      "source": [
        "# **Read Data**"
      ],
      "metadata": {
        "id": "82Kl3Cvzy2zt"
      }
    },
    {
      "cell_type": "code",
      "source": [
        "train_df=pd.read_csv(\"/content/drive/MyDrive/Data Sets/Horse/train.csv\")\n",
        "test_df=pd.read_csv(\"/content/drive/MyDrive/Data Sets/Horse/test.csv\")\n",
        "train_df.columns"
      ],
      "metadata": {
        "colab": {
          "base_uri": "https://localhost:8080/"
        },
        "id": "Vy0Lap-EzKVH",
        "outputId": "0c9cdc57-dcbb-4dbb-d7ed-acd6ba9aa47f"
      },
      "execution_count": 3,
      "outputs": [
        {
          "output_type": "execute_result",
          "data": {
            "text/plain": [
              "Index(['id', 'surgery', 'age', 'hospital_number', 'rectal_temp', 'pulse',\n",
              "       'respiratory_rate', 'temp_of_extremities', 'peripheral_pulse',\n",
              "       'mucous_membrane', 'capillary_refill_time', 'pain', 'peristalsis',\n",
              "       'abdominal_distention', 'nasogastric_tube', 'nasogastric_reflux',\n",
              "       'nasogastric_reflux_ph', 'rectal_exam_feces', 'abdomen',\n",
              "       'packed_cell_volume', 'total_protein', 'abdomo_appearance',\n",
              "       'abdomo_protein', 'surgical_lesion', 'lesion_1', 'lesion_2', 'lesion_3',\n",
              "       'cp_data', 'outcome'],\n",
              "      dtype='object')"
            ]
          },
          "metadata": {},
          "execution_count": 3
        }
      ]
    },
    {
      "cell_type": "code",
      "source": [
        "train_df.describe()"
      ],
      "metadata": {
        "colab": {
          "base_uri": "https://localhost:8080/",
          "height": 320
        },
        "id": "02DbqsBuz_TE",
        "outputId": "6869b682-5ddd-467c-f652-716312d6c5c4"
      },
      "execution_count": 4,
      "outputs": [
        {
          "output_type": "execute_result",
          "data": {
            "text/plain": [
              "              id  hospital_number  rectal_temp        pulse  respiratory_rate  \\\n",
              "count  1235.0000     1.235000e+03  1235.000000  1235.000000       1235.000000   \n",
              "mean    617.0000     9.545004e+05    38.202186    79.574089         30.054251   \n",
              "std     356.6581     1.356403e+06     0.788668    29.108638         16.452066   \n",
              "min       0.0000     5.213990e+05    35.400000    30.000000          8.000000   \n",
              "25%     308.5000     5.288000e+05    37.800000    53.000000         18.000000   \n",
              "50%     617.0000     5.297770e+05    38.200000    76.000000         28.000000   \n",
              "75%     925.5000     5.341450e+05    38.600000   100.000000         36.000000   \n",
              "max    1234.0000     5.305129e+06    40.800000   184.000000         96.000000   \n",
              "\n",
              "       nasogastric_reflux_ph  packed_cell_volume  total_protein  \\\n",
              "count            1235.000000         1235.000000    1235.000000   \n",
              "mean                4.382591           49.602429      21.388016   \n",
              "std                 1.937357           10.535800      26.676453   \n",
              "min                 1.000000           23.000000       3.500000   \n",
              "25%                 2.000000           43.000000       6.600000   \n",
              "50%                 4.500000           48.000000       7.500000   \n",
              "75%                 6.000000           57.000000       9.100000   \n",
              "max                 7.500000           75.000000      89.000000   \n",
              "\n",
              "       abdomo_protein      lesion_1     lesion_2     lesion_3  \n",
              "count     1235.000000   1235.000000  1235.000000  1235.000000  \n",
              "mean         3.290931   3832.496356    14.612146     3.577328  \n",
              "std          1.589195   5436.733774   193.705735    88.858953  \n",
              "min          0.100000      0.000000     0.000000     0.000000  \n",
              "25%          2.000000   2205.000000     0.000000     0.000000  \n",
              "50%          3.000000   2209.000000     0.000000     0.000000  \n",
              "75%          4.300000   3205.000000     0.000000     0.000000  \n",
              "max         10.100000  41110.000000  3112.000000  2209.000000  "
            ],
            "text/html": [
              "\n",
              "  <div id=\"df-f5fcab1f-210b-4430-9322-bf6b41ebe1bd\" class=\"colab-df-container\">\n",
              "    <div>\n",
              "<style scoped>\n",
              "    .dataframe tbody tr th:only-of-type {\n",
              "        vertical-align: middle;\n",
              "    }\n",
              "\n",
              "    .dataframe tbody tr th {\n",
              "        vertical-align: top;\n",
              "    }\n",
              "\n",
              "    .dataframe thead th {\n",
              "        text-align: right;\n",
              "    }\n",
              "</style>\n",
              "<table border=\"1\" class=\"dataframe\">\n",
              "  <thead>\n",
              "    <tr style=\"text-align: right;\">\n",
              "      <th></th>\n",
              "      <th>id</th>\n",
              "      <th>hospital_number</th>\n",
              "      <th>rectal_temp</th>\n",
              "      <th>pulse</th>\n",
              "      <th>respiratory_rate</th>\n",
              "      <th>nasogastric_reflux_ph</th>\n",
              "      <th>packed_cell_volume</th>\n",
              "      <th>total_protein</th>\n",
              "      <th>abdomo_protein</th>\n",
              "      <th>lesion_1</th>\n",
              "      <th>lesion_2</th>\n",
              "      <th>lesion_3</th>\n",
              "    </tr>\n",
              "  </thead>\n",
              "  <tbody>\n",
              "    <tr>\n",
              "      <th>count</th>\n",
              "      <td>1235.0000</td>\n",
              "      <td>1.235000e+03</td>\n",
              "      <td>1235.000000</td>\n",
              "      <td>1235.000000</td>\n",
              "      <td>1235.000000</td>\n",
              "      <td>1235.000000</td>\n",
              "      <td>1235.000000</td>\n",
              "      <td>1235.000000</td>\n",
              "      <td>1235.000000</td>\n",
              "      <td>1235.000000</td>\n",
              "      <td>1235.000000</td>\n",
              "      <td>1235.000000</td>\n",
              "    </tr>\n",
              "    <tr>\n",
              "      <th>mean</th>\n",
              "      <td>617.0000</td>\n",
              "      <td>9.545004e+05</td>\n",
              "      <td>38.202186</td>\n",
              "      <td>79.574089</td>\n",
              "      <td>30.054251</td>\n",
              "      <td>4.382591</td>\n",
              "      <td>49.602429</td>\n",
              "      <td>21.388016</td>\n",
              "      <td>3.290931</td>\n",
              "      <td>3832.496356</td>\n",
              "      <td>14.612146</td>\n",
              "      <td>3.577328</td>\n",
              "    </tr>\n",
              "    <tr>\n",
              "      <th>std</th>\n",
              "      <td>356.6581</td>\n",
              "      <td>1.356403e+06</td>\n",
              "      <td>0.788668</td>\n",
              "      <td>29.108638</td>\n",
              "      <td>16.452066</td>\n",
              "      <td>1.937357</td>\n",
              "      <td>10.535800</td>\n",
              "      <td>26.676453</td>\n",
              "      <td>1.589195</td>\n",
              "      <td>5436.733774</td>\n",
              "      <td>193.705735</td>\n",
              "      <td>88.858953</td>\n",
              "    </tr>\n",
              "    <tr>\n",
              "      <th>min</th>\n",
              "      <td>0.0000</td>\n",
              "      <td>5.213990e+05</td>\n",
              "      <td>35.400000</td>\n",
              "      <td>30.000000</td>\n",
              "      <td>8.000000</td>\n",
              "      <td>1.000000</td>\n",
              "      <td>23.000000</td>\n",
              "      <td>3.500000</td>\n",
              "      <td>0.100000</td>\n",
              "      <td>0.000000</td>\n",
              "      <td>0.000000</td>\n",
              "      <td>0.000000</td>\n",
              "    </tr>\n",
              "    <tr>\n",
              "      <th>25%</th>\n",
              "      <td>308.5000</td>\n",
              "      <td>5.288000e+05</td>\n",
              "      <td>37.800000</td>\n",
              "      <td>53.000000</td>\n",
              "      <td>18.000000</td>\n",
              "      <td>2.000000</td>\n",
              "      <td>43.000000</td>\n",
              "      <td>6.600000</td>\n",
              "      <td>2.000000</td>\n",
              "      <td>2205.000000</td>\n",
              "      <td>0.000000</td>\n",
              "      <td>0.000000</td>\n",
              "    </tr>\n",
              "    <tr>\n",
              "      <th>50%</th>\n",
              "      <td>617.0000</td>\n",
              "      <td>5.297770e+05</td>\n",
              "      <td>38.200000</td>\n",
              "      <td>76.000000</td>\n",
              "      <td>28.000000</td>\n",
              "      <td>4.500000</td>\n",
              "      <td>48.000000</td>\n",
              "      <td>7.500000</td>\n",
              "      <td>3.000000</td>\n",
              "      <td>2209.000000</td>\n",
              "      <td>0.000000</td>\n",
              "      <td>0.000000</td>\n",
              "    </tr>\n",
              "    <tr>\n",
              "      <th>75%</th>\n",
              "      <td>925.5000</td>\n",
              "      <td>5.341450e+05</td>\n",
              "      <td>38.600000</td>\n",
              "      <td>100.000000</td>\n",
              "      <td>36.000000</td>\n",
              "      <td>6.000000</td>\n",
              "      <td>57.000000</td>\n",
              "      <td>9.100000</td>\n",
              "      <td>4.300000</td>\n",
              "      <td>3205.000000</td>\n",
              "      <td>0.000000</td>\n",
              "      <td>0.000000</td>\n",
              "    </tr>\n",
              "    <tr>\n",
              "      <th>max</th>\n",
              "      <td>1234.0000</td>\n",
              "      <td>5.305129e+06</td>\n",
              "      <td>40.800000</td>\n",
              "      <td>184.000000</td>\n",
              "      <td>96.000000</td>\n",
              "      <td>7.500000</td>\n",
              "      <td>75.000000</td>\n",
              "      <td>89.000000</td>\n",
              "      <td>10.100000</td>\n",
              "      <td>41110.000000</td>\n",
              "      <td>3112.000000</td>\n",
              "      <td>2209.000000</td>\n",
              "    </tr>\n",
              "  </tbody>\n",
              "</table>\n",
              "</div>\n",
              "    <div class=\"colab-df-buttons\">\n",
              "\n",
              "  <div class=\"colab-df-container\">\n",
              "    <button class=\"colab-df-convert\" onclick=\"convertToInteractive('df-f5fcab1f-210b-4430-9322-bf6b41ebe1bd')\"\n",
              "            title=\"Convert this dataframe to an interactive table.\"\n",
              "            style=\"display:none;\">\n",
              "\n",
              "  <svg xmlns=\"http://www.w3.org/2000/svg\" height=\"24px\" viewBox=\"0 -960 960 960\">\n",
              "    <path d=\"M120-120v-720h720v720H120Zm60-500h600v-160H180v160Zm220 220h160v-160H400v160Zm0 220h160v-160H400v160ZM180-400h160v-160H180v160Zm440 0h160v-160H620v160ZM180-180h160v-160H180v160Zm440 0h160v-160H620v160Z\"/>\n",
              "  </svg>\n",
              "    </button>\n",
              "\n",
              "  <style>\n",
              "    .colab-df-container {\n",
              "      display:flex;\n",
              "      gap: 12px;\n",
              "    }\n",
              "\n",
              "    .colab-df-convert {\n",
              "      background-color: #E8F0FE;\n",
              "      border: none;\n",
              "      border-radius: 50%;\n",
              "      cursor: pointer;\n",
              "      display: none;\n",
              "      fill: #1967D2;\n",
              "      height: 32px;\n",
              "      padding: 0 0 0 0;\n",
              "      width: 32px;\n",
              "    }\n",
              "\n",
              "    .colab-df-convert:hover {\n",
              "      background-color: #E2EBFA;\n",
              "      box-shadow: 0px 1px 2px rgba(60, 64, 67, 0.3), 0px 1px 3px 1px rgba(60, 64, 67, 0.15);\n",
              "      fill: #174EA6;\n",
              "    }\n",
              "\n",
              "    .colab-df-buttons div {\n",
              "      margin-bottom: 4px;\n",
              "    }\n",
              "\n",
              "    [theme=dark] .colab-df-convert {\n",
              "      background-color: #3B4455;\n",
              "      fill: #D2E3FC;\n",
              "    }\n",
              "\n",
              "    [theme=dark] .colab-df-convert:hover {\n",
              "      background-color: #434B5C;\n",
              "      box-shadow: 0px 1px 3px 1px rgba(0, 0, 0, 0.15);\n",
              "      filter: drop-shadow(0px 1px 2px rgba(0, 0, 0, 0.3));\n",
              "      fill: #FFFFFF;\n",
              "    }\n",
              "  </style>\n",
              "\n",
              "    <script>\n",
              "      const buttonEl =\n",
              "        document.querySelector('#df-f5fcab1f-210b-4430-9322-bf6b41ebe1bd button.colab-df-convert');\n",
              "      buttonEl.style.display =\n",
              "        google.colab.kernel.accessAllowed ? 'block' : 'none';\n",
              "\n",
              "      async function convertToInteractive(key) {\n",
              "        const element = document.querySelector('#df-f5fcab1f-210b-4430-9322-bf6b41ebe1bd');\n",
              "        const dataTable =\n",
              "          await google.colab.kernel.invokeFunction('convertToInteractive',\n",
              "                                                    [key], {});\n",
              "        if (!dataTable) return;\n",
              "\n",
              "        const docLinkHtml = 'Like what you see? Visit the ' +\n",
              "          '<a target=\"_blank\" href=https://colab.research.google.com/notebooks/data_table.ipynb>data table notebook</a>'\n",
              "          + ' to learn more about interactive tables.';\n",
              "        element.innerHTML = '';\n",
              "        dataTable['output_type'] = 'display_data';\n",
              "        await google.colab.output.renderOutput(dataTable, element);\n",
              "        const docLink = document.createElement('div');\n",
              "        docLink.innerHTML = docLinkHtml;\n",
              "        element.appendChild(docLink);\n",
              "      }\n",
              "    </script>\n",
              "  </div>\n",
              "\n",
              "\n",
              "<div id=\"df-ca6aca9b-269b-45d4-a329-20fb0d2c4371\">\n",
              "  <button class=\"colab-df-quickchart\" onclick=\"quickchart('df-ca6aca9b-269b-45d4-a329-20fb0d2c4371')\"\n",
              "            title=\"Suggest charts.\"\n",
              "            style=\"display:none;\">\n",
              "\n",
              "<svg xmlns=\"http://www.w3.org/2000/svg\" height=\"24px\"viewBox=\"0 0 24 24\"\n",
              "     width=\"24px\">\n",
              "    <g>\n",
              "        <path d=\"M19 3H5c-1.1 0-2 .9-2 2v14c0 1.1.9 2 2 2h14c1.1 0 2-.9 2-2V5c0-1.1-.9-2-2-2zM9 17H7v-7h2v7zm4 0h-2V7h2v10zm4 0h-2v-4h2v4z\"/>\n",
              "    </g>\n",
              "</svg>\n",
              "  </button>\n",
              "\n",
              "<style>\n",
              "  .colab-df-quickchart {\n",
              "      --bg-color: #E8F0FE;\n",
              "      --fill-color: #1967D2;\n",
              "      --hover-bg-color: #E2EBFA;\n",
              "      --hover-fill-color: #174EA6;\n",
              "      --disabled-fill-color: #AAA;\n",
              "      --disabled-bg-color: #DDD;\n",
              "  }\n",
              "\n",
              "  [theme=dark] .colab-df-quickchart {\n",
              "      --bg-color: #3B4455;\n",
              "      --fill-color: #D2E3FC;\n",
              "      --hover-bg-color: #434B5C;\n",
              "      --hover-fill-color: #FFFFFF;\n",
              "      --disabled-bg-color: #3B4455;\n",
              "      --disabled-fill-color: #666;\n",
              "  }\n",
              "\n",
              "  .colab-df-quickchart {\n",
              "    background-color: var(--bg-color);\n",
              "    border: none;\n",
              "    border-radius: 50%;\n",
              "    cursor: pointer;\n",
              "    display: none;\n",
              "    fill: var(--fill-color);\n",
              "    height: 32px;\n",
              "    padding: 0;\n",
              "    width: 32px;\n",
              "  }\n",
              "\n",
              "  .colab-df-quickchart:hover {\n",
              "    background-color: var(--hover-bg-color);\n",
              "    box-shadow: 0 1px 2px rgba(60, 64, 67, 0.3), 0 1px 3px 1px rgba(60, 64, 67, 0.15);\n",
              "    fill: var(--button-hover-fill-color);\n",
              "  }\n",
              "\n",
              "  .colab-df-quickchart-complete:disabled,\n",
              "  .colab-df-quickchart-complete:disabled:hover {\n",
              "    background-color: var(--disabled-bg-color);\n",
              "    fill: var(--disabled-fill-color);\n",
              "    box-shadow: none;\n",
              "  }\n",
              "\n",
              "  .colab-df-spinner {\n",
              "    border: 2px solid var(--fill-color);\n",
              "    border-color: transparent;\n",
              "    border-bottom-color: var(--fill-color);\n",
              "    animation:\n",
              "      spin 1s steps(1) infinite;\n",
              "  }\n",
              "\n",
              "  @keyframes spin {\n",
              "    0% {\n",
              "      border-color: transparent;\n",
              "      border-bottom-color: var(--fill-color);\n",
              "      border-left-color: var(--fill-color);\n",
              "    }\n",
              "    20% {\n",
              "      border-color: transparent;\n",
              "      border-left-color: var(--fill-color);\n",
              "      border-top-color: var(--fill-color);\n",
              "    }\n",
              "    30% {\n",
              "      border-color: transparent;\n",
              "      border-left-color: var(--fill-color);\n",
              "      border-top-color: var(--fill-color);\n",
              "      border-right-color: var(--fill-color);\n",
              "    }\n",
              "    40% {\n",
              "      border-color: transparent;\n",
              "      border-right-color: var(--fill-color);\n",
              "      border-top-color: var(--fill-color);\n",
              "    }\n",
              "    60% {\n",
              "      border-color: transparent;\n",
              "      border-right-color: var(--fill-color);\n",
              "    }\n",
              "    80% {\n",
              "      border-color: transparent;\n",
              "      border-right-color: var(--fill-color);\n",
              "      border-bottom-color: var(--fill-color);\n",
              "    }\n",
              "    90% {\n",
              "      border-color: transparent;\n",
              "      border-bottom-color: var(--fill-color);\n",
              "    }\n",
              "  }\n",
              "</style>\n",
              "\n",
              "  <script>\n",
              "    async function quickchart(key) {\n",
              "      const quickchartButtonEl =\n",
              "        document.querySelector('#' + key + ' button');\n",
              "      quickchartButtonEl.disabled = true;  // To prevent multiple clicks.\n",
              "      quickchartButtonEl.classList.add('colab-df-spinner');\n",
              "      try {\n",
              "        const charts = await google.colab.kernel.invokeFunction(\n",
              "            'suggestCharts', [key], {});\n",
              "      } catch (error) {\n",
              "        console.error('Error during call to suggestCharts:', error);\n",
              "      }\n",
              "      quickchartButtonEl.classList.remove('colab-df-spinner');\n",
              "      quickchartButtonEl.classList.add('colab-df-quickchart-complete');\n",
              "    }\n",
              "    (() => {\n",
              "      let quickchartButtonEl =\n",
              "        document.querySelector('#df-ca6aca9b-269b-45d4-a329-20fb0d2c4371 button');\n",
              "      quickchartButtonEl.style.display =\n",
              "        google.colab.kernel.accessAllowed ? 'block' : 'none';\n",
              "    })();\n",
              "  </script>\n",
              "</div>\n",
              "    </div>\n",
              "  </div>\n"
            ]
          },
          "metadata": {},
          "execution_count": 4
        }
      ]
    },
    {
      "cell_type": "code",
      "source": [
        "train_df.info()"
      ],
      "metadata": {
        "colab": {
          "base_uri": "https://localhost:8080/"
        },
        "id": "9uzEOTjY_tAc",
        "outputId": "3357ab0a-d511-4c0f-de6e-6bc512329b26"
      },
      "execution_count": 5,
      "outputs": [
        {
          "output_type": "stream",
          "name": "stdout",
          "text": [
            "<class 'pandas.core.frame.DataFrame'>\n",
            "RangeIndex: 1235 entries, 0 to 1234\n",
            "Data columns (total 29 columns):\n",
            " #   Column                 Non-Null Count  Dtype  \n",
            "---  ------                 --------------  -----  \n",
            " 0   id                     1235 non-null   int64  \n",
            " 1   surgery                1235 non-null   object \n",
            " 2   age                    1235 non-null   object \n",
            " 3   hospital_number        1235 non-null   int64  \n",
            " 4   rectal_temp            1235 non-null   float64\n",
            " 5   pulse                  1235 non-null   float64\n",
            " 6   respiratory_rate       1235 non-null   float64\n",
            " 7   temp_of_extremities    1235 non-null   object \n",
            " 8   peripheral_pulse       1235 non-null   object \n",
            " 9   mucous_membrane        1235 non-null   object \n",
            " 10  capillary_refill_time  1235 non-null   object \n",
            " 11  pain                   1235 non-null   object \n",
            " 12  peristalsis            1235 non-null   object \n",
            " 13  abdominal_distention   1235 non-null   object \n",
            " 14  nasogastric_tube       1235 non-null   object \n",
            " 15  nasogastric_reflux     1235 non-null   object \n",
            " 16  nasogastric_reflux_ph  1235 non-null   float64\n",
            " 17  rectal_exam_feces      1235 non-null   object \n",
            " 18  abdomen                1235 non-null   object \n",
            " 19  packed_cell_volume     1235 non-null   float64\n",
            " 20  total_protein          1235 non-null   float64\n",
            " 21  abdomo_appearance      1235 non-null   object \n",
            " 22  abdomo_protein         1235 non-null   float64\n",
            " 23  surgical_lesion        1235 non-null   object \n",
            " 24  lesion_1               1235 non-null   int64  \n",
            " 25  lesion_2               1235 non-null   int64  \n",
            " 26  lesion_3               1235 non-null   int64  \n",
            " 27  cp_data                1235 non-null   object \n",
            " 28  outcome                1235 non-null   object \n",
            "dtypes: float64(7), int64(5), object(17)\n",
            "memory usage: 279.9+ KB\n"
          ]
        }
      ]
    },
    {
      "cell_type": "markdown",
      "source": [
        "# **Visualize Data**"
      ],
      "metadata": {
        "id": "zK9j7o_HACjl"
      }
    },
    {
      "cell_type": "code",
      "source": [
        "ProfileReport(train_df)"
      ],
      "metadata": {
        "id": "Pmf28g6L_v6j"
      },
      "execution_count": null,
      "outputs": []
    },
    {
      "cell_type": "markdown",
      "source": [
        "# **Preprocessing Data**"
      ],
      "metadata": {
        "id": "dgllHZcOAcfH"
      }
    },
    {
      "cell_type": "code",
      "source": [
        "train_df.columns"
      ],
      "metadata": {
        "colab": {
          "base_uri": "https://localhost:8080/"
        },
        "id": "6n0BtaFqBEIa",
        "outputId": "5a99d5e2-ae26-4002-9f75-dd5dac4d0c00"
      },
      "execution_count": 6,
      "outputs": [
        {
          "output_type": "execute_result",
          "data": {
            "text/plain": [
              "Index(['id', 'surgery', 'age', 'hospital_number', 'rectal_temp', 'pulse',\n",
              "       'respiratory_rate', 'temp_of_extremities', 'peripheral_pulse',\n",
              "       'mucous_membrane', 'capillary_refill_time', 'pain', 'peristalsis',\n",
              "       'abdominal_distention', 'nasogastric_tube', 'nasogastric_reflux',\n",
              "       'nasogastric_reflux_ph', 'rectal_exam_feces', 'abdomen',\n",
              "       'packed_cell_volume', 'total_protein', 'abdomo_appearance',\n",
              "       'abdomo_protein', 'surgical_lesion', 'lesion_1', 'lesion_2', 'lesion_3',\n",
              "       'cp_data', 'outcome'],\n",
              "      dtype='object')"
            ]
          },
          "metadata": {},
          "execution_count": 6
        }
      ]
    },
    {
      "cell_type": "code",
      "source": [
        "train_df.drop([\"id\",\"hospital_number\"],axis=1,inplace=True)"
      ],
      "metadata": {
        "id": "jYxengu6BJaF"
      },
      "execution_count": 7,
      "outputs": []
    },
    {
      "cell_type": "code",
      "source": [
        "numericalVariables=[ 'rectal_temp', 'pulse','respiratory_rate',\"pulse\",'respiratory_rate', \"nasogastric_reflux_ph\",'packed_cell_volume', 'total_protein','abdomo_protein',\"lesion_1\"]\n",
        "\n",
        "categoricalVariables=[\"abdomo_appearance\",\"pain\",\"capillary_refill_time\",\"mucous_membrane\",\"abdomen\",\"rectal_exam_feces\",\"nasogastric_reflux\",\"nasogastric_tube\",\"abdominal_distention\",\"peristalsis\",\"pain\",'temp_of_extremities', 'peripheral_pulse',]\n",
        "\n",
        "y_vector=pd.get_dummies(train_df[\"outcome\"])"
      ],
      "metadata": {
        "id": "DqvK7LH7AtAk"
      },
      "execution_count": 12,
      "outputs": []
    },
    {
      "cell_type": "code",
      "source": [
        "for i in categoricalVariables:\n",
        "    print(\"--x--\",\"\\n\")\n",
        "    print(i,pd.unique(train_df[i]))\n",
        "    print(\"--x--\",\"\\n\")\n"
      ],
      "metadata": {
        "colab": {
          "base_uri": "https://localhost:8080/"
        },
        "id": "z3OYkElYDIZp",
        "outputId": "89d443b1-9f26-4f87-a9bb-949eed88e822"
      },
      "execution_count": 14,
      "outputs": [
        {
          "output_type": "stream",
          "name": "stdout",
          "text": [
            "--x-- \n",
            "\n",
            "abdomo_appearance ['serosanguious' 'cloudy' 'clear' 'None']\n",
            "--x-- \n",
            "\n",
            "--x-- \n",
            "\n",
            "pain ['depressed' 'mild_pain' 'extreme_pain' 'alert' 'severe_pain' 'None'\n",
            " 'slight']\n",
            "--x-- \n",
            "\n",
            "--x-- \n",
            "\n",
            "capillary_refill_time ['more_3_sec' 'less_3_sec' 'None' '3']\n",
            "--x-- \n",
            "\n",
            "--x-- \n",
            "\n",
            "mucous_membrane ['dark_cyanotic' 'pale_cyanotic' 'pale_pink' 'normal_pink' 'bright_pink'\n",
            " 'bright_red' 'None']\n",
            "--x-- \n",
            "\n",
            "--x-- \n",
            "\n",
            "abdomen ['distend_small' 'distend_large' 'normal' 'firm' 'None' 'other']\n",
            "--x-- \n",
            "\n",
            "--x-- \n",
            "\n",
            "rectal_exam_feces ['decreased' 'absent' 'None' 'normal' 'increased' 'serosanguious']\n",
            "--x-- \n",
            "\n",
            "--x-- \n",
            "\n",
            "nasogastric_reflux ['less_1_liter' 'more_1_liter' 'none' 'None' 'slight']\n",
            "--x-- \n",
            "\n",
            "--x-- \n",
            "\n",
            "nasogastric_tube ['slight' 'none' 'significant' 'None']\n",
            "--x-- \n",
            "\n",
            "--x-- \n",
            "\n",
            "abdominal_distention ['slight' 'moderate' 'none' 'severe' 'None']\n",
            "--x-- \n",
            "\n",
            "--x-- \n",
            "\n",
            "peristalsis ['absent' 'hypomotile' 'normal' 'hypermotile' 'None' 'distend_small']\n",
            "--x-- \n",
            "\n",
            "--x-- \n",
            "\n",
            "pain ['depressed' 'mild_pain' 'extreme_pain' 'alert' 'severe_pain' 'None'\n",
            " 'slight']\n",
            "--x-- \n",
            "\n",
            "--x-- \n",
            "\n",
            "temp_of_extremities ['cool' 'cold' 'normal' 'warm' 'None']\n",
            "--x-- \n",
            "\n",
            "--x-- \n",
            "\n",
            "peripheral_pulse ['reduced' 'normal' 'None' 'absent' 'increased']\n",
            "--x-- \n",
            "\n"
          ]
        }
      ]
    },
    {
      "cell_type": "code",
      "source": [
        "train_df[\"cp_data\"].replace({\n",
        "    \"yes\":1,\n",
        "    \"no\":0}\n",
        ",inplace=True)\n",
        "\n",
        "train_df[\"surgical_lesion\"].replace({\n",
        "    \"yes\":1,\n",
        "    \"no\":0}\n",
        ",inplace=True)\n",
        "\n",
        "train_df[\"surgery\"].replace({\n",
        "    \"yes\":1,\n",
        "    \"no\":0}\n",
        ",inplace=True)\n",
        "\n",
        "train_df[\"age\"].replace({\n",
        "    \"adult\":1,\n",
        "    \"young\":0}\n",
        ",inplace=True)"
      ],
      "metadata": {
        "id": "-6aTSTvjBnWg"
      },
      "execution_count": null,
      "outputs": []
    },
    {
      "cell_type": "markdown",
      "source": [
        "# **Visualize Data - 2**"
      ],
      "metadata": {
        "id": "PNSbVTXwCJ3t"
      }
    },
    {
      "cell_type": "code",
      "source": [
        "plt.suptitle(\"Box Plot for All Numerical Variables\")\n",
        "for i in numericalVariables:\n",
        "    fig = px.box(train_df, y=i)\n",
        "    fig.show()"
      ],
      "metadata": {
        "id": "82cGQONiFQ5s"
      },
      "execution_count": null,
      "outputs": []
    },
    {
      "cell_type": "markdown",
      "source": [
        "# **Data Preprocessing - 2**"
      ],
      "metadata": {
        "id": "TpooPhZHFRb4"
      }
    },
    {
      "cell_type": "code",
      "source": [
        "numericalPipeline=Pipeline([\n",
        "\n",
        "    (\"Imputer\",SimpleImputer(strategy=\"median\")),\n",
        "    (\"StandardScaler\",StandardScaler())\n",
        "\n",
        "])\n",
        "\n",
        "categoricalPipeline=Pipeline([\n",
        "\n",
        "    (\"Imputer\",SimpleImputer(strategy=\"most_frequent\")),\n",
        "    (\"OneHotEncoder\",OneHotEncoder())\n",
        "\n",
        "])"
      ],
      "metadata": {
        "id": "9Ummj_IiAwVj"
      },
      "execution_count": null,
      "outputs": []
    },
    {
      "cell_type": "code",
      "source": [
        "Transformer=ColumnTransformer([\n",
        "\n",
        "    (\"NumericalVariables\",numericalPipeline,numericalVariables),\n",
        "    (\"CategoricalVariables\",categoricalPipeline,categoricalVariables)\n",
        "\n",
        "])"
      ],
      "metadata": {
        "id": "t-MYjAOqA487"
      },
      "execution_count": null,
      "outputs": []
    },
    {
      "cell_type": "code",
      "source": [],
      "metadata": {
        "id": "ontKNa6FMV_K"
      },
      "execution_count": null,
      "outputs": []
    },
    {
      "cell_type": "code",
      "source": [
        "x_train_vector=Transformer.fit_transform(train_df)"
      ],
      "metadata": {
        "id": "asL4WToZA8fs"
      },
      "execution_count": null,
      "outputs": []
    },
    {
      "cell_type": "code",
      "source": [
        "x_train_vector=scipy.sparse.lil_matrix(x_train_vector).toarray()\n"
      ],
      "metadata": {
        "id": "R806tkkJNhks"
      },
      "execution_count": null,
      "outputs": []
    },
    {
      "cell_type": "markdown",
      "source": [
        "# **Model Building**"
      ],
      "metadata": {
        "id": "f2CQ9M-gIab7"
      }
    },
    {
      "cell_type": "code",
      "source": [
        "inputlayer=Input((81,),name=\"inputlayer\")\n",
        "\n",
        "#Parallel Branch One\n",
        "dense1=Dense(2056,activation=\"relu\")(inputlayer)\n",
        "dense2=Dense(1024,activation=\"relu\")(dense1)\n",
        "dense3=Dense(512,activation=\"relu\")(dense2)\n",
        "dense4=Dense(256,activation=\"relu\")(dense3)\n",
        "dense5=Dense(256,activation=\"relu\")(dense4)\n",
        "\n",
        "#Parallel Branch One\n",
        "dense6=Dense(2056,activation=\"tanh\")(inputlayer)\n",
        "dense7=Dense(1024,activation=\"relu\")(dense6)\n",
        "dense8=Dense(512,activation=\"relu\")(dense7)\n",
        "dense9=Dense(256,activation=\"relu\")(dense8)\n",
        "dense10=Dense(256,activation=\"relu\")(dense9)\n",
        "\n",
        "#Concatenate Different Outputs\n",
        "add=Activation(\"relu\")(Add()([dense5,dense10]))\n",
        "\n",
        "\n",
        "\n",
        "dense11=Dense(1024,activation=\"relu\")(add)\n",
        "dense12=Dense(1024,activation=\"tanh\")(dense11)\n",
        "dense13=Dense(512,activation=\"relu\")(dense12)\n",
        "dense14=Dense(512,activation=\"relu\")(dense13)\n",
        "output=Dense(3,activation=\"softmax\")(dense14)"
      ],
      "metadata": {
        "id": "xlgNilGaIned"
      },
      "execution_count": null,
      "outputs": []
    },
    {
      "cell_type": "code",
      "source": [
        "ml=Model(inputs=inputlayer,outputs=output)\n",
        "plot_model(ml,show_layer_names=True,show_layer_activations=True,show_shapes=True)"
      ],
      "metadata": {
        "id": "NoLnw-1wJ48w"
      },
      "execution_count": null,
      "outputs": []
    },
    {
      "cell_type": "code",
      "source": [
        "ml.compile(\n",
        "\n",
        "    optimizer=\"adam\",\n",
        "    loss=\"sparse_categorical_crossentropy\",\n",
        "    metrics=\"accuracy\"\n",
        ")"
      ],
      "metadata": {
        "id": "cIE8d2aRKEv-"
      },
      "execution_count": null,
      "outputs": []
    },
    {
      "cell_type": "code",
      "source": [
        "ml.fit(x=x_train_vector,y=y_vector,epochs=100,verbose=2)"
      ],
      "metadata": {
        "id": "AmBoL4DvK_8y"
      },
      "execution_count": null,
      "outputs": []
    }
  ]
}